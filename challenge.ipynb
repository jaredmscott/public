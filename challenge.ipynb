{
 "cells": [
  {
   "cell_type": "markdown",
   "id": "7e2de4c1",
   "metadata": {},
   "source": [
    "# Alto Neuroscience data challenge\n",
    "#### Jared Scott, applicant\n",
    "---\n",
    "\n",
    "### Dataset:\n",
    "\n",
    "The dataset is from a 2014 survey that measures attitudes towards mental health and frequency of mental health disorders in the tech workplace. The dataset itself and further description is found on kaggle.com at the following address: https://www.kaggle.com/osmi/mental-health-in-tech-survey\n",
    "\n",
    "### Directives:\n",
    "1. What questions can we address with this dataset?\n",
    "2. How can we go about answering those questions?\n",
    "\n",
    "---\n",
    "\n",
    "### First steps:\n",
    "\n",
    "First, we note the description of the survey dataset fields from the website:\n",
    "\n",
    "* Timestamp of survey\n",
    "* Age\n",
    "* Gender\n",
    "* Country\n",
    "* state: If you live in the United States, which state or territory do you live in?\n",
    "* self_employed: Are you self-employed?\n",
    "* family_history: Do you have a family history of mental illness?\n",
    "* treatment: Have you sought treatment for a mental health condition?\n",
    "* work_interfere: If you have a mental health condition, do you feel that it interferes with your work?\n",
    "* no_employees: How many employees does your company or organization have?\n",
    "* remote_work: Do you work remotely (outside of an office) at least 50% of the time?\n",
    "* tech_company: Is your employer primarily a tech company/organization?\n",
    "* benefits: Does your employer provide mental health benefits?\n",
    "* care_options: Do you know the options for mental health care your employer provides?\n",
    "* wellness_program: Has your employer ever discussed mental health as part of an employee wellness program?\n",
    "* seek_help: Does your employer provide resources to learn more about mental health issues and how to seek help?\n",
    "* anonymity: Is your anonymity protected if you choose to take advantage of mental health or substance abuse treatment resources?\n",
    "* leave: How easy is it for you to take medical leave for a mental health condition?\n",
    "* mentalhealthconsequence: Do you think that discussing a mental health issue with your employer would have negative consequences?\n",
    "* physhealthconsequence: Do you think that discussing a physical health issue with your employer would have negative consequences?\n",
    "* coworkers: Would you be willing to discuss a mental health issue with your coworkers?\n",
    "* supervisor: Would you be willing to discuss a mental health issue with your direct supervisor(s)?\n",
    "* mentalhealthinterview: Would you bring up a mental health issue with a potential employer in an interview?\n",
    "* physhealthinterview: Would you bring up a physical health issue with a potential employer in an interview?\n",
    "* mentalvsphysical: Do you feel that your employer takes mental health as seriously as physical health?\n",
    "* obs_consequence: Have you heard of or observed negative consequences for coworkers with mental health conditions in your workplace?\n",
    "* comments: Any additional notes or comments\n",
    "\n",
    "---\n",
    "\n",
    "### Formulating dataset questions and possible strategies to address them:\n",
    "\n",
    "With the above descriptions, we can start to pose some questions that the dataset could potentially address.\n",
    "\n",
    "##### Questions to address and potential analysis strategies:\n",
    "So given the breadth of survey variables, we can ask many questions of the data here, such as:\n",
    "\n",
    "0. What are the general population-level trends of the data? \n",
    "    * We can use visualization and descriptive statistics to show these trends\n",
    "    * This is a basic question that needs to be addressed before moving on to more interesting ones\n",
    "####    \n",
    "1. Can we identify predictors of mental illness in the workplace? More importantly, how is the tech industry supporting or not supporting mental health?\n",
    "    * We can use logistic regression in concert with L2 regularization to identify features with higher odds-ratios. \n",
    "    * Comparing these odds ratios allows us to identify potentially predictive features of mental illness in the tech workplace.\n",
    "    \n",
    "##### We can also ask other questions that could be addressed in a future analysis:\n",
    "\n",
    "2. Are there respondant subsets that represent marginalized groups who are less likely to be supported by their employers? Are there any concrete predictors of membership in such subsets?\n",
    "#### \n",
    "3. Are there predictors of treatment-seeking behavior in respondants with mental illness? Does this vary by the severity of mental illness reported, as in the `workplace_interfere` variable?\n",
    "\n",
    "##### Note:\n",
    "\n",
    "Given time constraints, this analysis will focus on questions 0 and 1, but the analysis techniques described below could be extended to answer questions 2 and 3. For possible alternate analysis methodologies, please see the description at the bottom of this document. "
   ]
  },
  {
   "cell_type": "markdown",
   "id": "fa60e6b8",
   "metadata": {},
   "source": [
    "--- \n",
    "\n",
    "### Dataset loading and preprocessing:\n",
    "\n",
    "Given the nature of the data acquired, we will be dealing primarily with logical and categorical responses. To start the analysis, we load the .csv file into python with the following:"
   ]
  },
  {
   "cell_type": "code",
   "execution_count": 160,
   "id": "cda2304f",
   "metadata": {},
   "outputs": [],
   "source": [
    "# Turn off warnings - in production code, all relevant warnings would be addressed\n",
    "import warnings\n",
    "warnings.filterwarnings(\"ignore\")\n",
    "\n",
    "# load standard libraries that we'll be working with\n",
    "import numpy as np\n",
    "import pandas as pd\n",
    "import matplotlib.pyplot as plt\n",
    "\n",
    "# load the survey data into dataframe\n",
    "mhdf = pd.read_csv('./survey.csv')"
   ]
  },
  {
   "cell_type": "markdown",
   "id": "08b2c0e6",
   "metadata": {},
   "source": [
    "Now that the data is loaded, we need to get a feel for what it contains:"
   ]
  },
  {
   "cell_type": "code",
   "execution_count": 2,
   "id": "56d2cd2d",
   "metadata": {
    "scrolled": true
   },
   "outputs": [
    {
     "name": "stdout",
     "output_type": "stream",
     "text": [
      "(1259, 27)\n"
     ]
    },
    {
     "data": {
      "text/html": [
       "<div>\n",
       "<style scoped>\n",
       "    .dataframe tbody tr th:only-of-type {\n",
       "        vertical-align: middle;\n",
       "    }\n",
       "\n",
       "    .dataframe tbody tr th {\n",
       "        vertical-align: top;\n",
       "    }\n",
       "\n",
       "    .dataframe thead th {\n",
       "        text-align: right;\n",
       "    }\n",
       "</style>\n",
       "<table border=\"1\" class=\"dataframe\">\n",
       "  <thead>\n",
       "    <tr style=\"text-align: right;\">\n",
       "      <th></th>\n",
       "      <th>Timestamp</th>\n",
       "      <th>Age</th>\n",
       "      <th>Gender</th>\n",
       "      <th>Country</th>\n",
       "      <th>state</th>\n",
       "      <th>self_employed</th>\n",
       "      <th>family_history</th>\n",
       "      <th>treatment</th>\n",
       "      <th>work_interfere</th>\n",
       "      <th>no_employees</th>\n",
       "      <th>...</th>\n",
       "      <th>leave</th>\n",
       "      <th>mental_health_consequence</th>\n",
       "      <th>phys_health_consequence</th>\n",
       "      <th>coworkers</th>\n",
       "      <th>supervisor</th>\n",
       "      <th>mental_health_interview</th>\n",
       "      <th>phys_health_interview</th>\n",
       "      <th>mental_vs_physical</th>\n",
       "      <th>obs_consequence</th>\n",
       "      <th>comments</th>\n",
       "    </tr>\n",
       "  </thead>\n",
       "  <tbody>\n",
       "    <tr>\n",
       "      <th>0</th>\n",
       "      <td>2014-08-27 11:29:31</td>\n",
       "      <td>37</td>\n",
       "      <td>Female</td>\n",
       "      <td>United States</td>\n",
       "      <td>IL</td>\n",
       "      <td>NaN</td>\n",
       "      <td>No</td>\n",
       "      <td>Yes</td>\n",
       "      <td>Often</td>\n",
       "      <td>6-25</td>\n",
       "      <td>...</td>\n",
       "      <td>Somewhat easy</td>\n",
       "      <td>No</td>\n",
       "      <td>No</td>\n",
       "      <td>Some of them</td>\n",
       "      <td>Yes</td>\n",
       "      <td>No</td>\n",
       "      <td>Maybe</td>\n",
       "      <td>Yes</td>\n",
       "      <td>No</td>\n",
       "      <td>NaN</td>\n",
       "    </tr>\n",
       "    <tr>\n",
       "      <th>1</th>\n",
       "      <td>2014-08-27 11:29:37</td>\n",
       "      <td>44</td>\n",
       "      <td>M</td>\n",
       "      <td>United States</td>\n",
       "      <td>IN</td>\n",
       "      <td>NaN</td>\n",
       "      <td>No</td>\n",
       "      <td>No</td>\n",
       "      <td>Rarely</td>\n",
       "      <td>More than 1000</td>\n",
       "      <td>...</td>\n",
       "      <td>Don't know</td>\n",
       "      <td>Maybe</td>\n",
       "      <td>No</td>\n",
       "      <td>No</td>\n",
       "      <td>No</td>\n",
       "      <td>No</td>\n",
       "      <td>No</td>\n",
       "      <td>Don't know</td>\n",
       "      <td>No</td>\n",
       "      <td>NaN</td>\n",
       "    </tr>\n",
       "    <tr>\n",
       "      <th>2</th>\n",
       "      <td>2014-08-27 11:29:44</td>\n",
       "      <td>32</td>\n",
       "      <td>Male</td>\n",
       "      <td>Canada</td>\n",
       "      <td>NaN</td>\n",
       "      <td>NaN</td>\n",
       "      <td>No</td>\n",
       "      <td>No</td>\n",
       "      <td>Rarely</td>\n",
       "      <td>6-25</td>\n",
       "      <td>...</td>\n",
       "      <td>Somewhat difficult</td>\n",
       "      <td>No</td>\n",
       "      <td>No</td>\n",
       "      <td>Yes</td>\n",
       "      <td>Yes</td>\n",
       "      <td>Yes</td>\n",
       "      <td>Yes</td>\n",
       "      <td>No</td>\n",
       "      <td>No</td>\n",
       "      <td>NaN</td>\n",
       "    </tr>\n",
       "    <tr>\n",
       "      <th>3</th>\n",
       "      <td>2014-08-27 11:29:46</td>\n",
       "      <td>31</td>\n",
       "      <td>Male</td>\n",
       "      <td>United Kingdom</td>\n",
       "      <td>NaN</td>\n",
       "      <td>NaN</td>\n",
       "      <td>Yes</td>\n",
       "      <td>Yes</td>\n",
       "      <td>Often</td>\n",
       "      <td>26-100</td>\n",
       "      <td>...</td>\n",
       "      <td>Somewhat difficult</td>\n",
       "      <td>Yes</td>\n",
       "      <td>Yes</td>\n",
       "      <td>Some of them</td>\n",
       "      <td>No</td>\n",
       "      <td>Maybe</td>\n",
       "      <td>Maybe</td>\n",
       "      <td>No</td>\n",
       "      <td>Yes</td>\n",
       "      <td>NaN</td>\n",
       "    </tr>\n",
       "    <tr>\n",
       "      <th>4</th>\n",
       "      <td>2014-08-27 11:30:22</td>\n",
       "      <td>31</td>\n",
       "      <td>Male</td>\n",
       "      <td>United States</td>\n",
       "      <td>TX</td>\n",
       "      <td>NaN</td>\n",
       "      <td>No</td>\n",
       "      <td>No</td>\n",
       "      <td>Never</td>\n",
       "      <td>100-500</td>\n",
       "      <td>...</td>\n",
       "      <td>Don't know</td>\n",
       "      <td>No</td>\n",
       "      <td>No</td>\n",
       "      <td>Some of them</td>\n",
       "      <td>Yes</td>\n",
       "      <td>Yes</td>\n",
       "      <td>Yes</td>\n",
       "      <td>Don't know</td>\n",
       "      <td>No</td>\n",
       "      <td>NaN</td>\n",
       "    </tr>\n",
       "  </tbody>\n",
       "</table>\n",
       "<p>5 rows × 27 columns</p>\n",
       "</div>"
      ],
      "text/plain": [
       "             Timestamp  Age  Gender         Country state self_employed  \\\n",
       "0  2014-08-27 11:29:31   37  Female   United States    IL           NaN   \n",
       "1  2014-08-27 11:29:37   44       M   United States    IN           NaN   \n",
       "2  2014-08-27 11:29:44   32    Male          Canada   NaN           NaN   \n",
       "3  2014-08-27 11:29:46   31    Male  United Kingdom   NaN           NaN   \n",
       "4  2014-08-27 11:30:22   31    Male   United States    TX           NaN   \n",
       "\n",
       "  family_history treatment work_interfere    no_employees  ...  \\\n",
       "0             No       Yes          Often            6-25  ...   \n",
       "1             No        No         Rarely  More than 1000  ...   \n",
       "2             No        No         Rarely            6-25  ...   \n",
       "3            Yes       Yes          Often          26-100  ...   \n",
       "4             No        No          Never         100-500  ...   \n",
       "\n",
       "                leave mental_health_consequence phys_health_consequence  \\\n",
       "0       Somewhat easy                        No                      No   \n",
       "1          Don't know                     Maybe                      No   \n",
       "2  Somewhat difficult                        No                      No   \n",
       "3  Somewhat difficult                       Yes                     Yes   \n",
       "4          Don't know                        No                      No   \n",
       "\n",
       "      coworkers supervisor mental_health_interview phys_health_interview  \\\n",
       "0  Some of them        Yes                      No                 Maybe   \n",
       "1            No         No                      No                    No   \n",
       "2           Yes        Yes                     Yes                   Yes   \n",
       "3  Some of them         No                   Maybe                 Maybe   \n",
       "4  Some of them        Yes                     Yes                   Yes   \n",
       "\n",
       "  mental_vs_physical obs_consequence comments  \n",
       "0                Yes              No      NaN  \n",
       "1         Don't know              No      NaN  \n",
       "2                 No              No      NaN  \n",
       "3                 No             Yes      NaN  \n",
       "4         Don't know              No      NaN  \n",
       "\n",
       "[5 rows x 27 columns]"
      ]
     },
     "execution_count": 2,
     "metadata": {},
     "output_type": "execute_result"
    }
   ],
   "source": [
    "print(mhdf.shape)\n",
    "mhdf.head()"
   ]
  },
  {
   "cell_type": "markdown",
   "id": "265327dc",
   "metadata": {},
   "source": [
    "From the above, there are 1259 survey responses across 27 different data fields. Since there are too few `Comment` responses, let's remove the last column. The `Timestamp` variable is also not useful for our analysis, so we can remove it as well. \n",
    "\n",
    "There are also a lot of `NaNs` and response inconsistencies that need cleaning up. We can do some of that with the following code:"
   ]
  },
  {
   "cell_type": "code",
   "execution_count": 3,
   "id": "63975a85",
   "metadata": {
    "scrolled": false
   },
   "outputs": [
    {
     "data": {
      "text/html": [
       "<div>\n",
       "<style scoped>\n",
       "    .dataframe tbody tr th:only-of-type {\n",
       "        vertical-align: middle;\n",
       "    }\n",
       "\n",
       "    .dataframe tbody tr th {\n",
       "        vertical-align: top;\n",
       "    }\n",
       "\n",
       "    .dataframe thead th {\n",
       "        text-align: right;\n",
       "    }\n",
       "</style>\n",
       "<table border=\"1\" class=\"dataframe\">\n",
       "  <thead>\n",
       "    <tr style=\"text-align: right;\">\n",
       "      <th></th>\n",
       "      <th>Age</th>\n",
       "      <th>Gender</th>\n",
       "      <th>Country</th>\n",
       "      <th>state</th>\n",
       "      <th>self_employed</th>\n",
       "      <th>family_history</th>\n",
       "      <th>treatment</th>\n",
       "      <th>work_interfere</th>\n",
       "      <th>no_employees</th>\n",
       "      <th>remote_work</th>\n",
       "      <th>...</th>\n",
       "      <th>anonymity</th>\n",
       "      <th>leave</th>\n",
       "      <th>mental_health_consequence</th>\n",
       "      <th>phys_health_consequence</th>\n",
       "      <th>coworkers</th>\n",
       "      <th>supervisor</th>\n",
       "      <th>mental_health_interview</th>\n",
       "      <th>phys_health_interview</th>\n",
       "      <th>mental_vs_physical</th>\n",
       "      <th>obs_consequence</th>\n",
       "    </tr>\n",
       "  </thead>\n",
       "  <tbody>\n",
       "    <tr>\n",
       "      <th>0</th>\n",
       "      <td>37</td>\n",
       "      <td>Female</td>\n",
       "      <td>United States</td>\n",
       "      <td>IL</td>\n",
       "      <td>No response or N/A</td>\n",
       "      <td>No</td>\n",
       "      <td>Yes</td>\n",
       "      <td>Often</td>\n",
       "      <td>6-25</td>\n",
       "      <td>No</td>\n",
       "      <td>...</td>\n",
       "      <td>Yes</td>\n",
       "      <td>Somewhat easy</td>\n",
       "      <td>No</td>\n",
       "      <td>No</td>\n",
       "      <td>Some of them</td>\n",
       "      <td>Yes</td>\n",
       "      <td>No</td>\n",
       "      <td>Maybe</td>\n",
       "      <td>Yes</td>\n",
       "      <td>No</td>\n",
       "    </tr>\n",
       "    <tr>\n",
       "      <th>1</th>\n",
       "      <td>44</td>\n",
       "      <td>M</td>\n",
       "      <td>United States</td>\n",
       "      <td>IN</td>\n",
       "      <td>No response or N/A</td>\n",
       "      <td>No</td>\n",
       "      <td>No</td>\n",
       "      <td>Rarely</td>\n",
       "      <td>More than 1000</td>\n",
       "      <td>No</td>\n",
       "      <td>...</td>\n",
       "      <td>Don't know</td>\n",
       "      <td>Don't know</td>\n",
       "      <td>Maybe</td>\n",
       "      <td>No</td>\n",
       "      <td>No</td>\n",
       "      <td>No</td>\n",
       "      <td>No</td>\n",
       "      <td>No</td>\n",
       "      <td>Don't know</td>\n",
       "      <td>No</td>\n",
       "    </tr>\n",
       "    <tr>\n",
       "      <th>2</th>\n",
       "      <td>32</td>\n",
       "      <td>Male</td>\n",
       "      <td>Canada</td>\n",
       "      <td>No response or N/A</td>\n",
       "      <td>No response or N/A</td>\n",
       "      <td>No</td>\n",
       "      <td>No</td>\n",
       "      <td>Rarely</td>\n",
       "      <td>6-25</td>\n",
       "      <td>No</td>\n",
       "      <td>...</td>\n",
       "      <td>Don't know</td>\n",
       "      <td>Somewhat difficult</td>\n",
       "      <td>No</td>\n",
       "      <td>No</td>\n",
       "      <td>Yes</td>\n",
       "      <td>Yes</td>\n",
       "      <td>Yes</td>\n",
       "      <td>Yes</td>\n",
       "      <td>No</td>\n",
       "      <td>No</td>\n",
       "    </tr>\n",
       "    <tr>\n",
       "      <th>3</th>\n",
       "      <td>31</td>\n",
       "      <td>Male</td>\n",
       "      <td>United Kingdom</td>\n",
       "      <td>No response or N/A</td>\n",
       "      <td>No response or N/A</td>\n",
       "      <td>Yes</td>\n",
       "      <td>Yes</td>\n",
       "      <td>Often</td>\n",
       "      <td>26-100</td>\n",
       "      <td>No</td>\n",
       "      <td>...</td>\n",
       "      <td>No</td>\n",
       "      <td>Somewhat difficult</td>\n",
       "      <td>Yes</td>\n",
       "      <td>Yes</td>\n",
       "      <td>Some of them</td>\n",
       "      <td>No</td>\n",
       "      <td>Maybe</td>\n",
       "      <td>Maybe</td>\n",
       "      <td>No</td>\n",
       "      <td>Yes</td>\n",
       "    </tr>\n",
       "    <tr>\n",
       "      <th>4</th>\n",
       "      <td>31</td>\n",
       "      <td>Male</td>\n",
       "      <td>United States</td>\n",
       "      <td>TX</td>\n",
       "      <td>No response or N/A</td>\n",
       "      <td>No</td>\n",
       "      <td>No</td>\n",
       "      <td>Never</td>\n",
       "      <td>100-500</td>\n",
       "      <td>Yes</td>\n",
       "      <td>...</td>\n",
       "      <td>Don't know</td>\n",
       "      <td>Don't know</td>\n",
       "      <td>No</td>\n",
       "      <td>No</td>\n",
       "      <td>Some of them</td>\n",
       "      <td>Yes</td>\n",
       "      <td>Yes</td>\n",
       "      <td>Yes</td>\n",
       "      <td>Don't know</td>\n",
       "      <td>No</td>\n",
       "    </tr>\n",
       "  </tbody>\n",
       "</table>\n",
       "<p>5 rows × 25 columns</p>\n",
       "</div>"
      ],
      "text/plain": [
       "   Age  Gender         Country               state       self_employed  \\\n",
       "0   37  Female   United States                  IL  No response or N/A   \n",
       "1   44       M   United States                  IN  No response or N/A   \n",
       "2   32    Male          Canada  No response or N/A  No response or N/A   \n",
       "3   31    Male  United Kingdom  No response or N/A  No response or N/A   \n",
       "4   31    Male   United States                  TX  No response or N/A   \n",
       "\n",
       "  family_history treatment work_interfere    no_employees remote_work  ...  \\\n",
       "0             No       Yes          Often            6-25          No  ...   \n",
       "1             No        No         Rarely  More than 1000          No  ...   \n",
       "2             No        No         Rarely            6-25          No  ...   \n",
       "3            Yes       Yes          Often          26-100          No  ...   \n",
       "4             No        No          Never         100-500         Yes  ...   \n",
       "\n",
       "    anonymity               leave mental_health_consequence  \\\n",
       "0         Yes       Somewhat easy                        No   \n",
       "1  Don't know          Don't know                     Maybe   \n",
       "2  Don't know  Somewhat difficult                        No   \n",
       "3          No  Somewhat difficult                       Yes   \n",
       "4  Don't know          Don't know                        No   \n",
       "\n",
       "  phys_health_consequence     coworkers supervisor mental_health_interview  \\\n",
       "0                      No  Some of them        Yes                      No   \n",
       "1                      No            No         No                      No   \n",
       "2                      No           Yes        Yes                     Yes   \n",
       "3                     Yes  Some of them         No                   Maybe   \n",
       "4                      No  Some of them        Yes                     Yes   \n",
       "\n",
       "  phys_health_interview mental_vs_physical obs_consequence  \n",
       "0                 Maybe                Yes              No  \n",
       "1                    No         Don't know              No  \n",
       "2                   Yes                 No              No  \n",
       "3                 Maybe                 No             Yes  \n",
       "4                   Yes         Don't know              No  \n",
       "\n",
       "[5 rows x 25 columns]"
      ]
     },
     "execution_count": 3,
     "metadata": {},
     "output_type": "execute_result"
    }
   ],
   "source": [
    "mhdf.drop('comments', axis=1, inplace=True)\n",
    "mhdf.drop('Timestamp', axis=1, inplace=True)\n",
    "mhdf.fillna(value='No response or N/A', inplace=True)\n",
    "mhdf.head()"
   ]
  },
  {
   "cell_type": "markdown",
   "id": "ce0ca8b7",
   "metadata": {},
   "source": [
    "Now we need to see if there are any non-standard responses that need to be dealt with. We can do this by examining unique responses per column, as in the following:"
   ]
  },
  {
   "cell_type": "code",
   "execution_count": 4,
   "id": "f0fc52be",
   "metadata": {},
   "outputs": [
    {
     "name": "stdout",
     "output_type": "stream",
     "text": [
      "Age:\n",
      "\n",
      "[         37          44          32          31          33          35\n",
      "          39          42          23          29          36          27\n",
      "          46          41          34          30          40          38\n",
      "          50          24          18          28          26          22\n",
      "          19          25          45          21         -29          43\n",
      "          56          60          54         329          55 99999999999\n",
      "          48          20          57          58          47          62\n",
      "          51          65          49       -1726           5          53\n",
      "          61           8          11          -1          72]\n",
      "\n",
      "\n",
      "Gender:\n",
      "\n",
      "['Female' 'M' 'Male' 'male' 'female' 'm' 'Male-ish' 'maile' 'Trans-female'\n",
      " 'Cis Female' 'F' 'something kinda male?' 'Cis Male' 'Woman' 'f' 'Mal'\n",
      " 'Male (CIS)' 'queer/she/they' 'non-binary' 'Femake' 'woman' 'Make' 'Nah'\n",
      " 'All' 'Enby' 'fluid' 'Genderqueer' 'Female ' 'Androgyne' 'Agender'\n",
      " 'cis-female/femme' 'Guy (-ish) ^_^' 'male leaning androgynous' 'Male '\n",
      " 'Man' 'Trans woman' 'msle' 'Neuter' 'Female (trans)' 'queer'\n",
      " 'Female (cis)' 'Mail' 'cis male' 'A little about you' 'Malr' 'p' 'femail'\n",
      " 'Cis Man' 'ostensibly male, unsure what that really means']\n",
      "\n",
      "\n",
      "Country:\n",
      "\n",
      "['United States' 'Canada' 'United Kingdom' 'Bulgaria' 'France' 'Portugal'\n",
      " 'Netherlands' 'Switzerland' 'Poland' 'Australia' 'Germany' 'Russia'\n",
      " 'Mexico' 'Brazil' 'Slovenia' 'Costa Rica' 'Austria' 'Ireland' 'India'\n",
      " 'South Africa' 'Italy' 'Sweden' 'Colombia' 'Latvia' 'Romania' 'Belgium'\n",
      " 'New Zealand' 'Zimbabwe' 'Spain' 'Finland' 'Uruguay' 'Israel'\n",
      " 'Bosnia and Herzegovina' 'Hungary' 'Singapore' 'Japan' 'Nigeria'\n",
      " 'Croatia' 'Norway' 'Thailand' 'Denmark' 'Bahamas, The' 'Greece' 'Moldova'\n",
      " 'Georgia' 'China' 'Czech Republic' 'Philippines']\n",
      "\n",
      "\n",
      "state:\n",
      "\n",
      "['IL' 'IN' 'No response or N/A' 'TX' 'TN' 'MI' 'OH' 'CA' 'CT' 'MD' 'NY'\n",
      " 'NC' 'MA' 'IA' 'PA' 'WA' 'WI' 'UT' 'NM' 'OR' 'FL' 'MN' 'MO' 'AZ' 'CO'\n",
      " 'GA' 'DC' 'NE' 'WV' 'OK' 'KS' 'VA' 'NH' 'KY' 'AL' 'NV' 'NJ' 'SC' 'VT'\n",
      " 'SD' 'ID' 'MS' 'RI' 'WY' 'LA' 'ME']\n",
      "\n",
      "\n",
      "self_employed:\n",
      "\n",
      "['No response or N/A' 'Yes' 'No']\n",
      "\n",
      "\n",
      "family_history:\n",
      "\n",
      "['No' 'Yes']\n",
      "\n",
      "\n",
      "treatment:\n",
      "\n",
      "['Yes' 'No']\n",
      "\n",
      "\n",
      "work_interfere:\n",
      "\n",
      "['Often' 'Rarely' 'Never' 'Sometimes' 'No response or N/A']\n",
      "\n",
      "\n",
      "no_employees:\n",
      "\n",
      "['6-25' 'More than 1000' '26-100' '100-500' '1-5' '500-1000']\n",
      "\n",
      "\n",
      "remote_work:\n",
      "\n",
      "['No' 'Yes']\n",
      "\n",
      "\n",
      "tech_company:\n",
      "\n",
      "['Yes' 'No']\n",
      "\n",
      "\n",
      "benefits:\n",
      "\n",
      "['Yes' \"Don't know\" 'No']\n",
      "\n",
      "\n",
      "care_options:\n",
      "\n",
      "['Not sure' 'No' 'Yes']\n",
      "\n",
      "\n",
      "wellness_program:\n",
      "\n",
      "['No' \"Don't know\" 'Yes']\n",
      "\n",
      "\n",
      "seek_help:\n",
      "\n",
      "['Yes' \"Don't know\" 'No']\n",
      "\n",
      "\n",
      "anonymity:\n",
      "\n",
      "['Yes' \"Don't know\" 'No']\n",
      "\n",
      "\n",
      "leave:\n",
      "\n",
      "['Somewhat easy' \"Don't know\" 'Somewhat difficult' 'Very difficult'\n",
      " 'Very easy']\n",
      "\n",
      "\n",
      "mental_health_consequence:\n",
      "\n",
      "['No' 'Maybe' 'Yes']\n",
      "\n",
      "\n",
      "phys_health_consequence:\n",
      "\n",
      "['No' 'Yes' 'Maybe']\n",
      "\n",
      "\n",
      "coworkers:\n",
      "\n",
      "['Some of them' 'No' 'Yes']\n",
      "\n",
      "\n",
      "supervisor:\n",
      "\n",
      "['Yes' 'No' 'Some of them']\n",
      "\n",
      "\n",
      "mental_health_interview:\n",
      "\n",
      "['No' 'Yes' 'Maybe']\n",
      "\n",
      "\n",
      "phys_health_interview:\n",
      "\n",
      "['Maybe' 'No' 'Yes']\n",
      "\n",
      "\n",
      "mental_vs_physical:\n",
      "\n",
      "['Yes' \"Don't know\" 'No']\n",
      "\n",
      "\n",
      "obs_consequence:\n",
      "\n",
      "['No' 'Yes']\n",
      "\n",
      "\n"
     ]
    }
   ],
   "source": [
    "# Loop through each column and print unique responses:\n",
    "for column in mhdf.columns:\n",
    "    print(mhdf[column].name + ':\\n')\n",
    "    print(mhdf[column].unique())\n",
    "    print('\\n')"
   ]
  },
  {
   "cell_type": "markdown",
   "id": "c57f4598",
   "metadata": {},
   "source": [
    "Except for the `Age` and `Gender` columns, all other variables appear to be ok. Let's clean data in these two columns according to some rules: anyone reporting `Age` as less than 16 or greater than 100 (8 outliers in total) we will assign an age of 16 (which assumes every respondant is eligible to work in the US - this may be innaccurate but for our purposes here it will suffice). Regarding `Gender` responses, we acknowledge that the following rule disregards the wide variety of gender identity and expression in current society, but again for the simplicity of the analysis here we will apply a label of `OTHER` to any survey response that is not explicitly `MALE` or `FEMALE`.\n",
    "\n",
    "The following code will apply these two rules:"
   ]
  },
  {
   "cell_type": "code",
   "execution_count": 5,
   "id": "260652ce",
   "metadata": {
    "scrolled": true
   },
   "outputs": [],
   "source": [
    "# In future code I would certainly address the copy warnings generated by these lines:\n",
    "\n",
    "mhdf['Age'][(mhdf['Age'] < 16) | (mhdf['Age'] > 100)] = 16\n",
    "\n",
    "mhdf['Gender'] = mhdf['Gender'].str.upper()\n",
    "mhdf['Gender'] = mhdf['Gender'].str.replace(' ','')\n",
    "\n",
    "mhdf['Gender'][mhdf['Gender'] == 'M'] = 'MALE'\n",
    "mhdf['Gender'][mhdf['Gender'] == 'F'] = 'FEMALE'\n",
    "\n",
    "mhdf['Gender'][(mhdf['Gender'] != 'MALE') & (mhdf['Gender'] != 'FEMALE')] = 'OTHER'\n"
   ]
  },
  {
   "cell_type": "markdown",
   "id": "441e81be",
   "metadata": {},
   "source": [
    "Ignoring the warnings produced by the above, now these columns are more standardized:"
   ]
  },
  {
   "cell_type": "code",
   "execution_count": 6,
   "id": "bbe1d5f7",
   "metadata": {},
   "outputs": [
    {
     "data": {
      "text/plain": [
       "array([37, 44, 32, 31, 33, 35, 39, 42, 23, 29, 36, 27, 46, 41, 34, 30, 40,\n",
       "       38, 50, 24, 18, 28, 26, 22, 19, 25, 45, 21, 16, 43, 56, 60, 54, 55,\n",
       "       48, 20, 57, 58, 47, 62, 51, 65, 49, 53, 61, 72])"
      ]
     },
     "execution_count": 6,
     "metadata": {},
     "output_type": "execute_result"
    }
   ],
   "source": [
    "mhdf['Age'].unique()"
   ]
  },
  {
   "cell_type": "code",
   "execution_count": 7,
   "id": "41cafa17",
   "metadata": {},
   "outputs": [
    {
     "data": {
      "text/plain": [
       "array(['FEMALE', 'MALE', 'OTHER'], dtype=object)"
      ]
     },
     "execution_count": 7,
     "metadata": {},
     "output_type": "execute_result"
    }
   ],
   "source": [
    "mhdf['Gender'].unique()"
   ]
  },
  {
   "cell_type": "markdown",
   "id": "ca70879f",
   "metadata": {},
   "source": [
    "With data loading and preprocessing complete, we can now start to address the questions put forth above."
   ]
  },
  {
   "cell_type": "markdown",
   "id": "9cfe0da7",
   "metadata": {},
   "source": [
    "\n",
    "\n",
    "---\n",
    "\n",
    "### 0. What are the general sample population-level trends?\n",
    "\n",
    "To address this, we can start with the following code:"
   ]
  },
  {
   "cell_type": "code",
   "execution_count": 8,
   "id": "bd484598",
   "metadata": {},
   "outputs": [
    {
     "data": {
      "text/plain": [
       "count    1259.000000\n",
       "mean       31.974583\n",
       "std         7.376605\n",
       "min        16.000000\n",
       "25%        27.000000\n",
       "50%        31.000000\n",
       "75%        36.000000\n",
       "max        72.000000\n",
       "Name: Age, dtype: float64"
      ]
     },
     "execution_count": 8,
     "metadata": {},
     "output_type": "execute_result"
    }
   ],
   "source": [
    "# Look at descriptive statistics of age: (the only numeric variable)\n",
    "mhdf['Age'].describe()"
   ]
  },
  {
   "cell_type": "code",
   "execution_count": 161,
   "id": "da9897cf",
   "metadata": {},
   "outputs": [
    {
     "data": {
      "text/plain": [
       "Text(0.5, 0, 'Age (years)')"
      ]
     },
     "execution_count": 161,
     "metadata": {},
     "output_type": "execute_result"
    },
    {
     "data": {
      "image/png": "[encoded data removed]",
      "text/plain": [
       "<Figure size 432x288 with 1 Axes>"
      ]
     },
     "metadata": {
      "needs_background": "light"
     },
     "output_type": "display_data"
    }
   ],
   "source": [
    "# Plot a kernel-smoothed density plot of age with standard parameters, i.e. standard bandwidth:\n",
    "\n",
    "# Note that if we wanted to better understand the small peak in density at roughly 55-60 years of age \n",
    "#     we could decrease the bandwidth to increase visual resolution, but this also results \n",
    "#     in a noisier plot (overfitting)\n",
    "\n",
    "mhdf.Age.plot.kde()\n",
    "plt.title('Density plot of respondant age')\n",
    "plt.xlabel('Age (years)')"
   ]
  },
  {
   "cell_type": "markdown",
   "id": "197b8c9b",
   "metadata": {},
   "source": [
    "From the summary statistics and kernel-smoothed density plot above, most respondants are about 30 years old, and the overall distribution is skewed toward younger respondants, leaving older indivduals in the minority.\n",
    "\n",
    "As far as other catgorical variables are concerned, we can assess them with similar code, and look at the distribution of responses with horizontal bar plots as well:"
   ]
  },
  {
   "cell_type": "code",
   "execution_count": 162,
   "id": "e3d62cfa",
   "metadata": {
    "scrolled": true
   },
   "outputs": [
    {
     "data": {
      "text/html": [
       "<div>\n",
       "<style scoped>\n",
       "    .dataframe tbody tr th:only-of-type {\n",
       "        vertical-align: middle;\n",
       "    }\n",
       "\n",
       "    .dataframe tbody tr th {\n",
       "        vertical-align: top;\n",
       "    }\n",
       "\n",
       "    .dataframe thead th {\n",
       "        text-align: right;\n",
       "    }\n",
       "</style>\n",
       "<table border=\"1\" class=\"dataframe\">\n",
       "  <thead>\n",
       "    <tr style=\"text-align: right;\">\n",
       "      <th></th>\n",
       "      <th>Timestamp</th>\n",
       "      <th>Gender</th>\n",
       "      <th>Country</th>\n",
       "      <th>state</th>\n",
       "      <th>self_employed</th>\n",
       "      <th>family_history</th>\n",
       "      <th>treatment</th>\n",
       "      <th>work_interfere</th>\n",
       "      <th>no_employees</th>\n",
       "      <th>remote_work</th>\n",
       "      <th>...</th>\n",
       "      <th>leave</th>\n",
       "      <th>mental_health_consequence</th>\n",
       "      <th>phys_health_consequence</th>\n",
       "      <th>coworkers</th>\n",
       "      <th>supervisor</th>\n",
       "      <th>mental_health_interview</th>\n",
       "      <th>phys_health_interview</th>\n",
       "      <th>mental_vs_physical</th>\n",
       "      <th>obs_consequence</th>\n",
       "      <th>comments</th>\n",
       "    </tr>\n",
       "  </thead>\n",
       "  <tbody>\n",
       "    <tr>\n",
       "      <th>count</th>\n",
       "      <td>1259</td>\n",
       "      <td>1259</td>\n",
       "      <td>1259</td>\n",
       "      <td>744</td>\n",
       "      <td>1241</td>\n",
       "      <td>1259</td>\n",
       "      <td>1259</td>\n",
       "      <td>995</td>\n",
       "      <td>1259</td>\n",
       "      <td>1259</td>\n",
       "      <td>...</td>\n",
       "      <td>1259</td>\n",
       "      <td>1259</td>\n",
       "      <td>1259</td>\n",
       "      <td>1259</td>\n",
       "      <td>1259</td>\n",
       "      <td>1259</td>\n",
       "      <td>1259</td>\n",
       "      <td>1259</td>\n",
       "      <td>1259</td>\n",
       "      <td>164</td>\n",
       "    </tr>\n",
       "    <tr>\n",
       "      <th>unique</th>\n",
       "      <td>1246</td>\n",
       "      <td>49</td>\n",
       "      <td>48</td>\n",
       "      <td>45</td>\n",
       "      <td>2</td>\n",
       "      <td>2</td>\n",
       "      <td>2</td>\n",
       "      <td>4</td>\n",
       "      <td>6</td>\n",
       "      <td>2</td>\n",
       "      <td>...</td>\n",
       "      <td>5</td>\n",
       "      <td>3</td>\n",
       "      <td>3</td>\n",
       "      <td>3</td>\n",
       "      <td>3</td>\n",
       "      <td>3</td>\n",
       "      <td>3</td>\n",
       "      <td>3</td>\n",
       "      <td>2</td>\n",
       "      <td>160</td>\n",
       "    </tr>\n",
       "    <tr>\n",
       "      <th>top</th>\n",
       "      <td>2014-08-27 12:31:41</td>\n",
       "      <td>Male</td>\n",
       "      <td>United States</td>\n",
       "      <td>CA</td>\n",
       "      <td>No</td>\n",
       "      <td>No</td>\n",
       "      <td>Yes</td>\n",
       "      <td>Sometimes</td>\n",
       "      <td>6-25</td>\n",
       "      <td>No</td>\n",
       "      <td>...</td>\n",
       "      <td>Don't know</td>\n",
       "      <td>No</td>\n",
       "      <td>No</td>\n",
       "      <td>Some of them</td>\n",
       "      <td>Yes</td>\n",
       "      <td>No</td>\n",
       "      <td>Maybe</td>\n",
       "      <td>Don't know</td>\n",
       "      <td>No</td>\n",
       "      <td>* Small family business - YMMV.</td>\n",
       "    </tr>\n",
       "    <tr>\n",
       "      <th>freq</th>\n",
       "      <td>2</td>\n",
       "      <td>615</td>\n",
       "      <td>751</td>\n",
       "      <td>138</td>\n",
       "      <td>1095</td>\n",
       "      <td>767</td>\n",
       "      <td>637</td>\n",
       "      <td>465</td>\n",
       "      <td>290</td>\n",
       "      <td>883</td>\n",
       "      <td>...</td>\n",
       "      <td>563</td>\n",
       "      <td>490</td>\n",
       "      <td>925</td>\n",
       "      <td>774</td>\n",
       "      <td>516</td>\n",
       "      <td>1008</td>\n",
       "      <td>557</td>\n",
       "      <td>576</td>\n",
       "      <td>1075</td>\n",
       "      <td>5</td>\n",
       "    </tr>\n",
       "  </tbody>\n",
       "</table>\n",
       "<p>4 rows × 26 columns</p>\n",
       "</div>"
      ],
      "text/plain": [
       "                  Timestamp Gender        Country state self_employed  \\\n",
       "count                  1259   1259           1259   744          1241   \n",
       "unique                 1246     49             48    45             2   \n",
       "top     2014-08-27 12:31:41   Male  United States    CA            No   \n",
       "freq                      2    615            751   138          1095   \n",
       "\n",
       "       family_history treatment work_interfere no_employees remote_work  ...  \\\n",
       "count            1259      1259            995         1259        1259  ...   \n",
       "unique              2         2              4            6           2  ...   \n",
       "top                No       Yes      Sometimes         6-25          No  ...   \n",
       "freq              767       637            465          290         883  ...   \n",
       "\n",
       "             leave mental_health_consequence phys_health_consequence  \\\n",
       "count         1259                      1259                    1259   \n",
       "unique           5                         3                       3   \n",
       "top     Don't know                        No                      No   \n",
       "freq           563                       490                     925   \n",
       "\n",
       "           coworkers supervisor mental_health_interview phys_health_interview  \\\n",
       "count           1259       1259                    1259                  1259   \n",
       "unique             3          3                       3                     3   \n",
       "top     Some of them        Yes                      No                 Maybe   \n",
       "freq             774        516                    1008                   557   \n",
       "\n",
       "       mental_vs_physical obs_consequence                         comments  \n",
       "count                1259            1259                              164  \n",
       "unique                  3               2                              160  \n",
       "top            Don't know              No  * Small family business - YMMV.  \n",
       "freq                  576            1075                                5  \n",
       "\n",
       "[4 rows x 26 columns]"
      ]
     },
     "execution_count": 162,
     "metadata": {},
     "output_type": "execute_result"
    }
   ],
   "source": [
    "# This function also describes all other categorical variables with a slight modification:\n",
    "mhdf.describe(include=object)"
   ]
  },
  {
   "cell_type": "markdown",
   "id": "e2aa5ef2",
   "metadata": {},
   "source": [
    "---\n",
    "\n",
    "Now, we'd like to visualize the distribution of responses by important column variables:"
   ]
  },
  {
   "cell_type": "code",
   "execution_count": 11,
   "id": "3da4450a",
   "metadata": {
    "scrolled": true
   },
   "outputs": [
    {
     "data": {
      "text/plain": [
       "Text(0.5, 0, 'Counts')"
      ]
     },
     "execution_count": 11,
     "metadata": {},
     "output_type": "execute_result"
    },
    {
     "data": {
      "image/png": "[encoded data removed]",
      "text/plain": [
       "<Figure size 432x288 with 1 Axes>"
      ]
     },
     "metadata": {
      "needs_background": "light"
     },
     "output_type": "display_data"
    }
   ],
   "source": [
    "mhdf['tech_company'].value_counts().plot(kind='barh')\n",
    "plt.title('Distribution of tech company responses:')\n",
    "plt.xlabel('Counts')"
   ]
  },
  {
   "cell_type": "markdown",
   "id": "2c92af85",
   "metadata": {},
   "source": [
    "Above: the vast majority of respondants work in the tech industry.\n",
    "    \n",
    "---"
   ]
  },
  {
   "cell_type": "code",
   "execution_count": 12,
   "id": "622d755c",
   "metadata": {},
   "outputs": [
    {
     "data": {
      "text/plain": [
       "Text(0.5, 0, 'Counts')"
      ]
     },
     "execution_count": 12,
     "metadata": {},
     "output_type": "execute_result"
    },
    {
     "data": {
      "image/png": "[encoded data removed]",
      "text/plain": [
       "<Figure size 432x288 with 1 Axes>"
      ]
     },
     "metadata": {
      "needs_background": "light"
     },
     "output_type": "display_data"
    }
   ],
   "source": [
    "mhdf['Gender'].value_counts().plot(kind='barh')\n",
    "plt.title('Distribution of gender responses:')\n",
    "plt.xlabel('Counts')"
   ]
  },
  {
   "cell_type": "markdown",
   "id": "e7f452d9",
   "metadata": {},
   "source": [
    "From the above visualization, there are many more male respondants than female, which is somewhat expected for a survey about the tech industry.\n",
    "\n",
    "---"
   ]
  },
  {
   "cell_type": "code",
   "execution_count": 13,
   "id": "24a0f67e",
   "metadata": {},
   "outputs": [
    {
     "data": {
      "text/plain": [
       "Text(0.5, 0, 'Counts')"
      ]
     },
     "execution_count": 13,
     "metadata": {},
     "output_type": "execute_result"
    },
    {
     "data": {
      "image/png": "[encoded data removed]",
      "text/plain": [
       "<Figure size 432x288 with 1 Axes>"
      ]
     },
     "metadata": {
      "needs_background": "light"
     },
     "output_type": "display_data"
    }
   ],
   "source": [
    "mhdf['family_history'].value_counts().plot(kind='barh')\n",
    "plt.title('Distribution of family history responses:')\n",
    "plt.xlabel('Counts')"
   ]
  },
  {
   "cell_type": "markdown",
   "id": "f626044a",
   "metadata": {},
   "source": [
    "Above: more than a third of respondants have a familial tie to mental illness.\n",
    "\n",
    "---"
   ]
  },
  {
   "cell_type": "code",
   "execution_count": 14,
   "id": "89061b6a",
   "metadata": {},
   "outputs": [
    {
     "data": {
      "text/plain": [
       "Text(0.5, 0, 'Counts')"
      ]
     },
     "execution_count": 14,
     "metadata": {},
     "output_type": "execute_result"
    },
    {
     "data": {
      "image/png": "[encoded data removed]",
      "text/plain": [
       "<Figure size 432x288 with 1 Axes>"
      ]
     },
     "metadata": {
      "needs_background": "light"
     },
     "output_type": "display_data"
    }
   ],
   "source": [
    "mhdf['treatment'].value_counts().plot(kind='barh')\n",
    "plt.title('Distribution of treatment responses:')\n",
    "plt.xlabel('Counts')"
   ]
  },
  {
   "cell_type": "markdown",
   "id": "7178de59",
   "metadata": {},
   "source": [
    "Above: there are roughly equal proportions of respondants that have sought out treatment for mental disorders versus those that have not. \n",
    "\n",
    "---"
   ]
  },
  {
   "cell_type": "code",
   "execution_count": 15,
   "id": "639942a0",
   "metadata": {},
   "outputs": [
    {
     "data": {
      "text/plain": [
       "Text(0.5, 0, 'Counts')"
      ]
     },
     "execution_count": 15,
     "metadata": {},
     "output_type": "execute_result"
    },
    {
     "data": {
      "image/png": "[encoded data removed]",
      "text/plain": [
       "<Figure size 432x288 with 1 Axes>"
      ]
     },
     "metadata": {
      "needs_background": "light"
     },
     "output_type": "display_data"
    }
   ],
   "source": [
    "mhdf['work_interfere'].value_counts().plot(kind='barh')\n",
    "plt.title('Distribution of work interference responses:')\n",
    "plt.xlabel('Counts')"
   ]
  },
  {
   "cell_type": "markdown",
   "id": "af962929",
   "metadata": {},
   "source": [
    "Above: the `work_interference` variable can be taken as a proxy indicator for the presence of mental illness in a given respondent. Using this proxy, we can see that only about 1/4 of all surveyed do not have some form of mental illness (i.e. `N/A` responses). After accumulating all other response types (`Often` + `Rarely` + `Never` + `Sometimes`) it is evident that roughly 75% of all surveyed have some form of mental illness, which seems quite high, or biased. Perhaps this could have arisen because those people taking the survey actively sought it out in some way - that is, they might have been browsing content about mental health to begin with. Surveys that are more representative of an entire population in the future would ideally be conducted in a more random fashion to avoid bias like this, but in a more advanced analysis of this survey data, class balancing techniques like random resampling (over- or under- applied to minority or majority classes) or SMOTE could be used to achieve better sample proportions for this variable."
   ]
  },
  {
   "cell_type": "markdown",
   "id": "431d9c75",
   "metadata": {},
   "source": [
    "--- \n",
    "\n",
    "### 1. Can we identify predictors of mental illness in the workplace? Are there predictors specific to the tech industry?\n",
    "\n",
    "For this analysis I will focus on the second part of this question, as it is more relevant to purpose of the survey itself. I will also ignore geographic variability due to lack of time, but this would also be an interesting avenue to pursue in a future analysis.\n",
    "\n",
    "**Methods to try:** We can use logistic regression to identify features with higher odds-ratio coefficients (after exponentiation), i.e. those columns variables that are better predictors of mental illness in the workplace.\n",
    "\n",
    "**Encoding categorical data:** To use statistical analysis and machine-learning techniques with categorical data, it is first necessary to encode these responses with numerical values. Noted below in the comments, for many variables, the possible responses can be somewhat ambiguous to interpret, i.e. `'Don't know'` - in these cases perhaps the use of a Likert scale would have been more useful for application of machine learning techniques.\n",
    "\n",
    "The following code creates a new data frame with this numerical encoding scheme:"
   ]
  },
  {
   "cell_type": "code",
   "execution_count": 145,
   "id": "d273ec22",
   "metadata": {},
   "outputs": [],
   "source": [
    "# create copy of original data frame to manipulate\n",
    "ndf = mhdf\n",
    "\n",
    "# [ NOTES: ]\n",
    "\n",
    "# For many variables, the possible responses can be somewhat ambiguous to interpret, \n",
    "#     e.g. 'Don't know' - perhaps the use of a balanced Likert scale for these cases would have \n",
    "#     been more useful for machine learning techniques\n",
    "\n",
    "# The problem with the function I wrote below is that the order of the ordinal responses may not be \n",
    "#     standardized from column to column. Knowing that this is a standard data science operation,\n",
    "#     I found a Python solution to encode the categorical variables according to a passed mapping.\n",
    "#     I could have extended this mapping reference to the function I wrote, but time was a limitation.\n",
    "\n",
    "# Another problem with ordinal categorical data that is not standardized across variables is that it can be harder\n",
    "#     to interpret the coefficients because the notion of scale between variables is arbitrary. This is not \n",
    "#     an issue I will be able to ameliorate here with my time constraints. \n",
    "\n",
    "# --------\n",
    "\n",
    "# Going through each column variable (except the numeric age column), \n",
    "#     we encode the categorical responses with numeric values:\n",
    "\n",
    "from category_encoders.ordinal import OrdinalEncoder\n",
    "\n",
    "# Create dictionary of column mapppings\n",
    "catMappings = [{'col': 'Gender', 'mapping': {'OTHER': 1, 'MALE': 0, 'FEMALE': 2}}, \\\n",
    "                {'col': 'self_employed',  'mapping': {'No response or N/A': 1, 'No': 0, 'Yes': 2}}, \\\n",
    "                {'col': 'family_history', 'mapping': {'No': 1, 'Yes': 2}}, \\\n",
    "                {'col': 'treatment', 'mapping': {'No': 1, 'Yes': 2}}, \\\n",
    "                {'col': 'work_interfere', 'mapping': {'No response or N/A': 0, 'Never': 1, 'Rarely': 2, 'Sometimes': 3, 'Often': 4}}, \\\n",
    "                {'col': 'no_employees', 'mapping': {'1-5': 1, '6-25': 2, '26-100': 3, '100-500': 4, '500-1000': 5, 'More than 1000': 6}}, \\\n",
    "                {'col': 'remote_work', 'mapping': {'No': 1, 'Yes': 2}}, \\\n",
    "                {'col': 'tech_company', 'mapping': {'No': 1, 'Yes': 2}}, \\\n",
    "                {'col': 'benefits', 'mapping': {\"Don't know\": 1, 'No': 0, 'Yes': 2}}, \\\n",
    "                {'col': 'care_options', 'mapping': {'Not sure': 1, 'No': 0, 'Yes': 2}}, \\\n",
    "                {'col': 'wellness_program', 'mapping': {\"Don't know\": 1, 'No': 0, 'Yes': 2}}, \\\n",
    "                {'col': 'seek_help', 'mapping': {\"Don't know\": 1, 'No': 0, 'Yes': 2}}, \\\n",
    "                {'col': 'anonymity', 'mapping': {\"Don't know\": 1, 'No': 0, 'Yes': 2}}, \\\n",
    "                {'col': 'leave', 'mapping': {\"Don't know\": 2, 'Very easy': 0, 'Somewhat easy': 1, 'Somewhat difficult': 3, 'Very difficult': 4}}, \\\n",
    "                {'col': 'mental_health_consequence', 'mapping': {'No': 0, 'Maybe': 1, 'Yes': 2}}, \\\n",
    "                {'col': 'phys_health_consequence', 'mapping': {'No': 0, 'Maybe': 1, 'Yes': 2}}, \\\n",
    "                {'col': 'coworkers', 'mapping': {'No': 0, 'Some of them': 1, 'Yes': 2}}, \\\n",
    "                {'col': 'supervisor', 'mapping': {'No': 0, 'Some of them': 1, 'Yes': 2}}, \\\n",
    "                {'col': 'mental_health_interview', 'mapping': {'No': 0, 'Maybe': 1, 'Yes': 2}}, \\\n",
    "                {'col': 'phys_health_interview', 'mapping': {'No': 0, 'Maybe': 1, 'Yes': 2}}, \\\n",
    "                {'col': 'mental_vs_physical', 'mapping': {\"Don't know\": 1, 'No': 0, 'Yes': 2}}, \\\n",
    "                {'col': 'obs_consequence', 'mapping': {'No': 1, 'Yes': 2}}]\n",
    "\n",
    "ncdr = OrdinalEncoder(mapping=catMappings)\n",
    "ndf = ncdr.fit_transform(ndf.drop(['Age'], axis=1),)\n",
    "\n",
    "# # define a function to read unique responses per column and reassign numeric values accordingly\n",
    "# def encode_responses(df):\n",
    "#    for column in df.columns:\n",
    "#        resps = df[column].unique()\n",
    "#        num = 0\n",
    "#        for r in resps:\n",
    "#            df[column][df[column] == r] = num\n",
    "#            num += 1\n",
    "#    return df\n",
    "            \n",
    "# ndf = encode_responses(ndf)\n"
   ]
  },
  {
   "cell_type": "markdown",
   "id": "9517488e",
   "metadata": {},
   "source": [
    "Now we can see that the new data frame has been encoded with the ordinal scheme supplied above:"
   ]
  },
  {
   "cell_type": "code",
   "execution_count": 146,
   "id": "94e8a501",
   "metadata": {
    "scrolled": true
   },
   "outputs": [
    {
     "data": {
      "text/html": [
       "<div>\n",
       "<style scoped>\n",
       "    .dataframe tbody tr th:only-of-type {\n",
       "        vertical-align: middle;\n",
       "    }\n",
       "\n",
       "    .dataframe tbody tr th {\n",
       "        vertical-align: top;\n",
       "    }\n",
       "\n",
       "    .dataframe thead th {\n",
       "        text-align: right;\n",
       "    }\n",
       "</style>\n",
       "<table border=\"1\" class=\"dataframe\">\n",
       "  <thead>\n",
       "    <tr style=\"text-align: right;\">\n",
       "      <th></th>\n",
       "      <th>Gender</th>\n",
       "      <th>Country</th>\n",
       "      <th>state</th>\n",
       "      <th>self_employed</th>\n",
       "      <th>family_history</th>\n",
       "      <th>treatment</th>\n",
       "      <th>work_interfere</th>\n",
       "      <th>no_employees</th>\n",
       "      <th>remote_work</th>\n",
       "      <th>tech_company</th>\n",
       "      <th>...</th>\n",
       "      <th>anonymity</th>\n",
       "      <th>leave</th>\n",
       "      <th>mental_health_consequence</th>\n",
       "      <th>phys_health_consequence</th>\n",
       "      <th>coworkers</th>\n",
       "      <th>supervisor</th>\n",
       "      <th>mental_health_interview</th>\n",
       "      <th>phys_health_interview</th>\n",
       "      <th>mental_vs_physical</th>\n",
       "      <th>obs_consequence</th>\n",
       "    </tr>\n",
       "  </thead>\n",
       "  <tbody>\n",
       "    <tr>\n",
       "      <th>0</th>\n",
       "      <td>2</td>\n",
       "      <td>United States</td>\n",
       "      <td>IL</td>\n",
       "      <td>1</td>\n",
       "      <td>1</td>\n",
       "      <td>2</td>\n",
       "      <td>4</td>\n",
       "      <td>2</td>\n",
       "      <td>1</td>\n",
       "      <td>2</td>\n",
       "      <td>...</td>\n",
       "      <td>2</td>\n",
       "      <td>1</td>\n",
       "      <td>0</td>\n",
       "      <td>0</td>\n",
       "      <td>1</td>\n",
       "      <td>2</td>\n",
       "      <td>0</td>\n",
       "      <td>1</td>\n",
       "      <td>2</td>\n",
       "      <td>1</td>\n",
       "    </tr>\n",
       "    <tr>\n",
       "      <th>1</th>\n",
       "      <td>0</td>\n",
       "      <td>United States</td>\n",
       "      <td>IN</td>\n",
       "      <td>1</td>\n",
       "      <td>1</td>\n",
       "      <td>1</td>\n",
       "      <td>2</td>\n",
       "      <td>6</td>\n",
       "      <td>1</td>\n",
       "      <td>1</td>\n",
       "      <td>...</td>\n",
       "      <td>1</td>\n",
       "      <td>2</td>\n",
       "      <td>1</td>\n",
       "      <td>0</td>\n",
       "      <td>0</td>\n",
       "      <td>0</td>\n",
       "      <td>0</td>\n",
       "      <td>0</td>\n",
       "      <td>1</td>\n",
       "      <td>1</td>\n",
       "    </tr>\n",
       "    <tr>\n",
       "      <th>2</th>\n",
       "      <td>0</td>\n",
       "      <td>Canada</td>\n",
       "      <td>No response or N/A</td>\n",
       "      <td>1</td>\n",
       "      <td>1</td>\n",
       "      <td>1</td>\n",
       "      <td>2</td>\n",
       "      <td>2</td>\n",
       "      <td>1</td>\n",
       "      <td>2</td>\n",
       "      <td>...</td>\n",
       "      <td>1</td>\n",
       "      <td>3</td>\n",
       "      <td>0</td>\n",
       "      <td>0</td>\n",
       "      <td>2</td>\n",
       "      <td>2</td>\n",
       "      <td>2</td>\n",
       "      <td>2</td>\n",
       "      <td>0</td>\n",
       "      <td>1</td>\n",
       "    </tr>\n",
       "  </tbody>\n",
       "</table>\n",
       "<p>3 rows × 24 columns</p>\n",
       "</div>"
      ],
      "text/plain": [
       "   Gender        Country               state  self_employed  family_history  \\\n",
       "0       2  United States                  IL              1               1   \n",
       "1       0  United States                  IN              1               1   \n",
       "2       0         Canada  No response or N/A              1               1   \n",
       "\n",
       "   treatment  work_interfere  no_employees  remote_work  tech_company  ...  \\\n",
       "0          2               4             2            1             2  ...   \n",
       "1          1               2             6            1             1  ...   \n",
       "2          1               2             2            1             2  ...   \n",
       "\n",
       "   anonymity  leave  mental_health_consequence  phys_health_consequence  \\\n",
       "0          2      1                          0                        0   \n",
       "1          1      2                          1                        0   \n",
       "2          1      3                          0                        0   \n",
       "\n",
       "   coworkers  supervisor  mental_health_interview  phys_health_interview  \\\n",
       "0          1           2                        0                      1   \n",
       "1          0           0                        0                      0   \n",
       "2          2           2                        2                      2   \n",
       "\n",
       "   mental_vs_physical  obs_consequence  \n",
       "0                   2                1  \n",
       "1                   1                1  \n",
       "2                   0                1  \n",
       "\n",
       "[3 rows x 24 columns]"
      ]
     },
     "execution_count": 146,
     "metadata": {},
     "output_type": "execute_result"
    }
   ],
   "source": [
    "ndf.head(3)"
   ]
  },
  {
   "cell_type": "markdown",
   "id": "16da5280",
   "metadata": {},
   "source": [
    "Now we need to create our binary outcome variable. To look at predictors of mental illness in the tech industry specifically, we first need to select only tech workers. We then can create this logical (boolean) outcome variable by selecting rows with `work_interfere > 0`:"
   ]
  },
  {
   "cell_type": "code",
   "execution_count": 158,
   "id": "528bd74e",
   "metadata": {},
   "outputs": [
    {
     "data": {
      "text/plain": [
       "True     815\n",
       "False    216\n",
       "Name: work_interfere, dtype: int64"
      ]
     },
     "execution_count": 158,
     "metadata": {},
     "output_type": "execute_result"
    }
   ],
   "source": [
    "# Filter out non-tech workers with the following:\n",
    "tdf = ndf[ndf['tech_company'] == 2]\n",
    "\n",
    "# Make binary outcome variable - those with mental illness reported work_interfere > 0:\n",
    "techOutcome = (tdf['work_interfere'] > 0) \n",
    "\n",
    "# Assess balance of classes now:\n",
    "techOutcome.value_counts()"
   ]
  },
  {
   "cell_type": "markdown",
   "id": "35576bde",
   "metadata": {},
   "source": [
    "Again, the above shows that our positive class (tech workers with assumed mental illness) is out of balance with and proportionately larger to the negative class. This type of imbalance could be addressed in future analyses by some of the techniques previously mentioned above. \n",
    "\n",
    "So now we're ready to run logistic regression with our encoded features:"
   ]
  },
  {
   "cell_type": "code",
   "execution_count": 157,
   "id": "a34e790a",
   "metadata": {},
   "outputs": [
    {
     "data": {
      "image/png": "[encoded data removed]",
      "text/plain": [
       "<Figure size 432x288 with 1 Axes>"
      ]
     },
     "metadata": {
      "needs_background": "light"
     },
     "output_type": "display_data"
    }
   ],
   "source": [
    "from sklearn.linear_model import LogisticRegression\n",
    "\n",
    "# Drop the country and state variables from our feature observations, (no geographic analysis at present)\n",
    "# as well as any that are non-ordinal (i.e. gender) or those that could be highly correlated with our outcome group:\n",
    "\n",
    "X = tdf.drop(['Gender','Country','state','treatment','work_interfere','family_history','tech_company'],axis=1)\n",
    "y = techOutcome\n",
    "\n",
    "# Note that in the future I would optimize selection of this penalty hyperparameter with a grid search procedure\n",
    "lrmodel = LogisticRegression(C=1) # default C\n",
    "# Above: C penalty decreasing toward zero = more regularization, \n",
    "# C increasing to infinity = less regularization\n",
    "\n",
    "# Fit the LR model to our features (X) and outcomes (y)\n",
    "lrmodel.fit(X, y)\n",
    "\n",
    "# Get the resulting coefficients and exponentiate them for interpretation\n",
    "ors = pd.Series(np.exp(lrmodel.coef_[0]))\n",
    "\n",
    "# Plot odds ratios:\n",
    "ax = ors.plot(kind='barh', title='Odds ratios for LogReg model coefficients')\n",
    "ax.set_yticklabels(X.columns)\n",
    "ax.xaxis.grid(True)"
   ]
  },
  {
   "cell_type": "markdown",
   "id": "d26bbdc7",
   "metadata": {},
   "source": [
    "### Interpretation:\n",
    "\n",
    "From the above plot of odds ratios for the logreg coefficients, we can see that there are several features that make for reasonable predictors of mental illness or health in tech workers. While there are many variables to interpret, here are some of the more important relationships: \n",
    "\n",
    "*(also note: for odds ratios greater than 1, every unit increase in a given feature is associated with increased probability of an outcome, while for odds ratios less than 1, such an increase is associated with lower outcome probabilities)*\n",
    "\n",
    "* In general, these results show that tech workers who report an increased perceived ability to communicate openly with an employer about mental health issues in general are at lower risk of having mental illness (O.R.: `mental_health_interview < 0.75`, `supervisor < 0.80`, `anonymity approx. = 0.90`).\n",
    "* It also appears that working for a larger company results in slightly decreased probability of mental illness (O.R.: `no_employees approx = 0.80`). An explanation for this finding could be that larger companies have better HR departments, more established protocols for dealing with mental illness in an appropriate manner, or may have wellness programs or better health insurance policies.\n",
    "* Increased probability of mental illness could be associated with perceived negative consequences of sharing mental health information, or having actually observed adverse consequences for the sharing of mental health information with employers or even surprisingly with fellow colleagues: O.R.: `obs_consequence approx. = 1.75`, `mental_health_consequence approx. = 1.60`, `coworkers > 1.50`."
   ]
  },
  {
   "cell_type": "markdown",
   "id": "8a0d31cd",
   "metadata": {},
   "source": [
    "### Further analysis:\n",
    "\n",
    "This type of analysis could also be further extended with other machine learning classification models like `Random Forest` methods, or multiclass `SVM` methods for analyzing these trends in the context of mental illness severity, or ensemble methods. \n",
    "\n",
    "Such methods could also be used to address questions 2 and 3 as stated in the beginning of this document. "
   ]
  }
 ],
 "metadata": {
  "kernelspec": {
   "display_name": "Python 3",
   "language": "python",
   "name": "python3"
  },
  "language_info": {
   "codemirror_mode": {
    "name": "ipython",
    "version": 3
   },
   "file_extension": ".py",
   "mimetype": "text/x-python",
   "name": "python",
   "nbconvert_exporter": "python",
   "pygments_lexer": "ipython3",
   "version": "3.8.8"
  }
 },
 "nbformat": 4,
 "nbformat_minor": 5
}
